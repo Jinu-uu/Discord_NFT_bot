{
 "cells": [
  {
   "cell_type": "code",
   "execution_count": 1,
   "metadata": {},
   "outputs": [],
   "source": [
    "import requests\n",
    "\n",
    "token = \"your token\"\n",
    "collection_api_url = \"https://api.opensea.io/api/v1/collection/\"\n",
    "headers = {\"X-API-KEY\": token}\n",
    "\n",
    "collection_url_dict = {}"
   ]
  },
  {
   "cell_type": "code",
   "execution_count": 2,
   "metadata": {},
   "outputs": [],
   "source": [
    "def add_collection(collection_name, correct_url):\n",
    "    collection_url_dict[collection_name] = correct_url"
   ]
  },
  {
   "cell_type": "code",
   "execution_count": 3,
   "metadata": {},
   "outputs": [],
   "source": [
    "def collection_info(collection_name):\n",
    "\n",
    "    response = requests.get(collection_api_url+collection_url_dict[collection_name], headers=headers)\n",
    "\n",
    "    if (response.status_code != 200):\n",
    "        return '404 Error'\n",
    "    collection_dict = {}\n",
    "    collection_dict['name'] = response.json()['collection']['name']\n",
    "    collection_dict['image_url'] = response.json()['collection']['image_url']\n",
    "    collection_dict['one_day_volume'] = response.json()['collection']['stats']['one_day_volume']\n",
    "    collection_dict['seven_day_volume'] = response.json()['collection']['stats']['seven_day_volume']\n",
    "    collection_dict['thirty_day_volume'] = response.json()['collection']['stats']['thirty_day_volume']\n",
    "    collection_dict['total_volume'] = response.json()['collection']['stats']['total_volume']\n",
    "    collection_dict['owners'] = response.json()['collection']['stats']['num_owners']\n",
    "    collection_dict['floor_price'] = response.json()['collection']['stats']['floor_price']\n",
    "    collection_dict['homepage_url'] = response.json()['collection']['external_url']\n",
    "    collection_dict['discord_url'] = response.json()['collection']['discord_url']\n",
    "    collection_dict['tiwtter_url'] = 'https://twitter.com/' + response.json()['collection']['twitter_username']\n",
    "    return collection_dict"
   ]
  },
  {
   "cell_type": "code",
   "execution_count": 121,
   "metadata": {},
   "outputs": [
    {
     "name": "stdout",
     "output_type": "stream",
     "text": [
      "{'name': 'Sunmiya Club Official', 'image_url': 'https://lh3.googleusercontent.com/UEltltZRWTPLVS05D6KYdo18nEZ7Ba4n8rj_OlDh8mnM3_oWassvQ0VDCqCMHHMDe2MruYUVOHhu5MGBRk40Sg09C-M8z3IIZPD8=s120', 'one_day_volume': 1.775565, 'seven_day_volume': 12.641484750000004, 'thirty_day_volume': 71.63692649999997, 'total_volume': 2227.7391195343316, 'owners': 2296, 'floor_price': 0.285912, 'homepage_url': 'https://sunmiya.club/', 'discord_url': 'https://discord.gg/sunmiyaClub', 'tiwtter_url': 'https://twitter.com/SunmiyaClub'}\n"
     ]
    }
   ],
   "source": [
    "print(collection_info('sunmiya-club-official'))"
   ]
  },
  {
   "cell_type": "code",
   "execution_count": 4,
   "metadata": {},
   "outputs": [
    {
     "name": "stdout",
     "output_type": "stream",
     "text": [
      "{'name': 'Bored Ape Yacht Club', 'image_url': 'https://lh3.googleusercontent.com/Ju9CkWtV-1Okvf45wo8UctR-M9He2PjILP0oOvxE89AyiPPGtrR3gysu1Zgy0hjd2xKIgjJJtWIc0ybj4Vd7wv8t3pxDGHoJBzDB=s120', 'one_day_volume': 84.22, 'seven_day_volume': 3839.069, 'thirty_day_volume': 14457.976815556556, 'total_volume': 657188.9404006233, 'owners': 6443, 'floor_price': 78.0, 'homepage_url': 'http://www.boredapeyachtclub.com/', 'discord_url': 'https://discord.gg/3P5K3dzgdB', 'tiwtter_url': 'https://twitter.com/BoredApeYC'}\n"
     ]
    }
   ],
   "source": [
    "add_collection('BAYC', 'boredapeyachtclub')\n",
    "print(collection_info('BAYC'))"
   ]
  },
  {
   "cell_type": "code",
   "execution_count": null,
   "metadata": {},
   "outputs": [],
   "source": []
  }
 ],
 "metadata": {
  "kernelspec": {
   "display_name": "Python 3.8.5 ('base')",
   "language": "python",
   "name": "python3"
  },
  "language_info": {
   "codemirror_mode": {
    "name": "ipython",
    "version": 3
   },
   "file_extension": ".py",
   "mimetype": "text/x-python",
   "name": "python",
   "nbconvert_exporter": "python",
   "pygments_lexer": "ipython3",
   "version": "3.8.5"
  },
  "orig_nbformat": 4,
  "vscode": {
   "interpreter": {
    "hash": "a077222d77dfe082b8f1dd562ad70e458ac2ab76993a0b248ab0476e32e9e8dd"
   }
  }
 },
 "nbformat": 4,
 "nbformat_minor": 2
}
